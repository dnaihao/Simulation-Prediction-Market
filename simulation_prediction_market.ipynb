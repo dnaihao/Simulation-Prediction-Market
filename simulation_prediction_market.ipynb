{
 "cells": [
  {
   "cell_type": "code",
   "execution_count": null,
   "metadata": {},
   "outputs": [],
   "source": [
    "#!/usr/bin/env python3\n",
    "\"\"\"\n",
    "\n",
    "Simulation Prediction Market Main Executable\n",
    "\n",
    "\"\"\"\n",
    "\n",
    "import argparse\n",
    "import pandas as pd\n",
    "import numpy as np\n",
    "from random import choices\n",
    "from Agents.bayesian_agent import BayesianAgent\n",
    "from Market_Maker.market_maker import MarketMaker"
   ]
  },
  {
   "cell_type": "markdown",
   "metadata": {},
   "source": [
    "Argument parser, we could specify verbose mode, agent number, and max iteration number for the market."
   ]
  },
  {
   "cell_type": "code",
   "execution_count": null,
   "metadata": {},
   "outputs": [],
   "source": [
    "def parse_command_line():\n",
    "    \"\"\"\n",
    "    argument parser\n",
    "    :return: args\n",
    "    \"\"\"\n",
    "    parser = argparse.ArgumentParser()\n",
    "    parser.add_argument(\n",
    "        \"-v\", \"--verbose\", action=\"store_true\", help=\"verbose showing simulation process\"\n",
    "    )\n",
    "    parser.add_argument(\n",
    "        \"-n\", \"--agent_number\", type=int, help=\"specify agent number\"\n",
    "    )\n",
    "    parser.add_argument(\n",
    "        \"-i\", \"--max_iteration\", type=int, help=\"specify maximum iteration\"\n",
    "    )\n",
    "    args = parser.parse_args()\n",
    "    return args"
   ]
  },
  {
   "cell_type": "markdown",
   "metadata": {},
   "source": [
    "Import data from csv file."
   ]
  },
  {
   "cell_type": "code",
   "execution_count": null,
   "metadata": {},
   "outputs": [],
   "source": [
    "def import_data(path):\n",
    "    \"\"\"\n",
    "    import real data from csv file\n",
    "    :param: path: data path\n",
    "    :return:\n",
    "    \"\"\"\n",
    "    res = pd.read_csv(path)\n",
    "    res = res.drop(columns=[\"ds\"])\n",
    "    return list(res[\"y\"])"
   ]
  },
  {
   "cell_type": "markdown",
   "metadata": {},
   "source": [
    "accept arguments and use inputs to assign value for agent number, market max iteration number. "
   ]
  },
  {
   "cell_type": "code",
   "execution_count": null,
   "metadata": {},
   "outputs": [],
   "source": [
    "def main():\n",
    "    args = parse_command_line()\n",
    "    agent_number = args.agent_number\n",
    "    max_iteration = args.max_iteration"
   ]
  },
  {
   "cell_type": "markdown",
   "metadata": {},
   "source": [
    "specify the file path for the data we use."
   ]
  },
  {
   "cell_type": "code",
   "execution_count": null,
   "metadata": {},
   "outputs": [],
   "source": [
    "    data_path = \"./Data/example_retail_sales.csv\""
   ]
  },
  {
   "cell_type": "markdown",
   "metadata": {},
   "source": [
    "specify prior range, num prior (the agent would randomly pick num_prior=10 data in the prior_range=20 (first 20 data from the whole dataset) to form his initial belief)."
   ]
  },
  {
   "cell_type": "code",
   "execution_count": null,
   "metadata": {},
   "outputs": [],
   "source": [
    "    prior_range = 20\n",
    "    num_prior = 10"
   ]
  },
  {
   "cell_type": "markdown",
   "metadata": {},
   "source": [
    " Number of observed sample is the datapoint number the agent would see before he enters the market (he would see the previous 10 datapoints that is just before his enter time)."
   ]
  },
  {
   "cell_type": "code",
   "execution_count": null,
   "metadata": {},
   "outputs": [],
   "source": [
    "    num_observed_sample = 10"
   ]
  },
  {
   "cell_type": "markdown",
   "metadata": {},
   "source": [
    "import data, and we set the prior data using the first prior_range=20 data. The rest data would be the actual data corresponding to the market state at each timepoint."
   ]
  },
  {
   "cell_type": "code",
   "execution_count": null,
   "metadata": {},
   "outputs": [],
   "source": [
    "    # import data\n",
    "    data = import_data(data_path)\n",
    "    prior = data[:prior_range]\n",
    "    data = data[prior_range:]"
   ]
  },
  {
   "cell_type": "markdown",
   "metadata": {},
   "source": [
    "initialize the agents' state. They would randomly pick 10 datapoints from the 20 in prior data to form their beliefs. We then append these agents to a list."
   ]
  },
  {
   "cell_type": "code",
   "execution_count": null,
   "metadata": {},
   "outputs": [],
   "source": [
    "    # initialize agents\n",
    "    agents = []\n",
    "    for i in range(agent_number):\n",
    "        agent_prior = choices(prior, k=num_prior)\n",
    "        agent = BayesianAgent(agent_prior)\n",
    "        agents.append(agent)"
   ]
  },
  {
   "cell_type": "markdown",
   "metadata": {},
   "source": [
    "initialize the market maker. We then use the Poisson distribution to set the enter time for each agent. We store their enter time in enter_times as a list."
   ]
  },
  {
   "cell_type": "code",
   "execution_count": null,
   "metadata": {},
   "outputs": [],
   "source": [
    "    # initialize market maker\n",
    "    mk = MarketMaker()\n",
    "    enter_times = np.random.poisson(2.3, max_iteration)\n",
    "    enter_times = list(np.cumsum(enter_times) + num_observed_sample)"
   ]
  },
  {
   "cell_type": "markdown",
   "metadata": {},
   "source": [
    "as long as the iteration does not exceed the max_iteration number we assigned in the above, the current agent would come into the market with the assigned time (we assigned it by Poisson distribution from above).  "
   ]
  },
  {
   "cell_type": "code",
   "execution_count": null,
   "metadata": {},
   "outputs": [],
   "source": [
    "\n",
    "    # Pass in the data which the agents need to update their beliefs\n",
    "    # The number of data points passed in to agent should be num_observed_sample\n",
    "    for i in range(max_iteration):\n",
    "        agent_idx = i % agent_number\n",
    "        curr_agent = agents[agent_idx]\n",
    "        enter_time = enter_times[i]"
   ]
  },
  {
   "cell_type": "markdown",
   "metadata": {},
   "source": [
    " Each agent would observe 10 datapoints that are just before their enter time and use these to form their current belief (updat_param)."
   ]
  },
  {
   "cell_type": "code",
   "execution_count": null,
   "metadata": {},
   "outputs": [],
   "source": [
    "         observed_data = data[-num_observed_sample + enter_time:enter_time]\n",
    "         curr_agent.update_param(observed_data)"
   ]
  },
  {
   "cell_type": "markdown",
   "metadata": {},
   "source": [
    "They would decide the amount of securites they would buy or sell ($\\delta_1,\\delta_2$)."
   ]
  },
  {
   "cell_type": "code",
   "execution_count": null,
   "metadata": {},
   "outputs": [],
   "source": [
    "        delta_1, delta_2 = curr_agent.calculate_shares_to_buy(mk.num_trade, mk.current_market_price)"
   ]
  },
  {
   "cell_type": "markdown",
   "metadata": {},
   "source": [
    "Agent and market maker would update security amount accordingly (update_security for agent and update_param for market maker)."
   ]
  },
  {
   "cell_type": "code",
   "execution_count": null,
   "metadata": {},
   "outputs": [],
   "source": [
    "        curr_agent.update_security(delta_1, delta_2)\n",
    "        mk.update_param(delta_1, delta_2)"
   ]
  },
  {
   "cell_type": "markdown",
   "metadata": {},
   "source": [
    "Print out the final market price as the aggregated knowledge."
   ]
  },
  {
   "cell_type": "code",
   "execution_count": null,
   "metadata": {},
   "outputs": [],
   "source": [
    "\n",
    "    print(\"enter time: {}\".format(enter_times))\n",
    "    print(mk.current_market_price)\n"
   ]
  },
  {
   "cell_type": "markdown",
   "metadata": {},
   "source": [
    "execute the whole program by calling the main function."
   ]
  },
  {
   "cell_type": "code",
   "execution_count": null,
   "metadata": {},
   "outputs": [],
   "source": [
    "if __name__ == '__main__':\n",
    "    main()"
   ]
  }
 ],
 "metadata": {
  "kernelspec": {
   "display_name": "Python 3",
   "language": "python",
   "name": "python3"
  },
  "language_info": {
   "codemirror_mode": {
    "name": "ipython",
    "version": 3
   },
   "file_extension": ".py",
   "mimetype": "text/x-python",
   "name": "python",
   "nbconvert_exporter": "python",
   "pygments_lexer": "ipython3",
   "version": "3.7.1"
  }
 },
 "nbformat": 4,
 "nbformat_minor": 2
}
