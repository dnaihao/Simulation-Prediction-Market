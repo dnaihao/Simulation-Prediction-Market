{
 "cells": [
  {
   "cell_type": "code",
   "execution_count": 3,
   "metadata": {},
   "outputs": [],
   "source": [
    "#!/usr/bin/env python3\n",
    "from math import log"
   ]
  },
  {
   "cell_type": "raw",
   "metadata": {},
   "source": [
    " Define a MarketMaker with self-defined current market price and corresponding outstanding security amounts."
   ]
  },
  {
   "cell_type": "code",
   "execution_count": null,
   "metadata": {},
   "outputs": [],
   "source": [
    "class MarketMaker:\n",
    "    \"\"\"\n",
    "    market maker (two securities)\n",
    "    \"\"\"\n",
    "\n",
    "    def __init__(self):\n",
    "        self.num_trade = 0\n",
    "        self.outstanding_security_amount = [1/100, -1/20000]    # number of securities in the market (list)\n",
    "        self.current_market_price = [100, 20000]                # with current delta, theta_2 is always negative"
   ]
  },
  {
   "cell_type": "markdown",
   "metadata": {},
   "source": [
    "Since we choose Gaussian distribution, the sufficient statistic would be $[x, x^2]$"
   ]
  },
  {
   "cell_type": "code",
   "execution_count": null,
   "metadata": {},
   "outputs": [],
   "source": [
    "   @staticmethod\n",
    "    def sufficient_statistic(x):\n",
    "        \"\"\"\n",
    "        phi(x) Gaussian distribution\n",
    "        :param x:\n",
    "        :return:\n",
    "        \"\"\"\n",
    "        return [x, x**2]"
   ]
  },
  {
   "cell_type": "markdown",
   "metadata": {},
   "source": [
    "The corresponding cost function is the log partition function for Gaussian distribution. The formula is:\n",
    "    $$\n",
    "    C(\\theta)=-\\frac{\\theta_1^2}{4\\theta_2}-\\frac{1}{2}log(-2\\theta_2)\n",
    "    $$\n",
    "    , where $\\theta_1$ and $\\theta_2$ correspond to the outstanding security amount(number of securities in current market)"
   ]
  },
  {
   "cell_type": "code",
   "execution_count": null,
   "metadata": {},
   "outputs": [],
   "source": [
    "   def cost_func(self):\n",
    "        \"\"\"\n",
    "        cost function == log partition func\n",
    "        :return:\n",
    "        \"\"\"\n",
    "        return -(self.outstanding_security_amount[0]**2/(4 * self.outstanding_security_amount[1])) \\\n",
    "            - 0.5 * log(-2 * self.outstanding_security_amount[1])\n"
   ]
  },
  {
   "cell_type": "markdown",
   "metadata": {},
   "source": [
    "Calculate the current market price corresponding to these two securities, which would be the result of partial derivatives for the cost function. The price would then be\n",
    "$$\n",
    "p_1(\\theta)=-\\frac{\\theta_1}{2\\theta_2}\n",
    "$$\n",
    "and\n",
    "$$\n",
    "p_2(\\theta)=-\\frac{\\theta_1^2}{4\\theta_2^2}-\\frac{1}{2\\theta_2}\n",
    "$$"
   ]
  },
  {
   "cell_type": "code",
   "execution_count": null,
   "metadata": {},
   "outputs": [],
   "source": [
    "  @staticmethod\n",
    "    def calc_current_market_price(theta_1, theta_2):\n",
    "        \"\"\"\n",
    "        calculate current market price\n",
    "        :param: theta_1:\n",
    "        :param: theta_2:\n",
    "        :return: current market price\n",
    "        \"\"\"\n",
    "        p_1 = -theta_1/(2 * theta_2)\n",
    "        p_2 = (theta_1 ** 2) /(4 * (theta_2 ** 2)) -1 / (2 * theta_2)\n",
    "        return p_1, p_2\n"
   ]
  },
  {
   "cell_type": "markdown",
   "metadata": {},
   "source": [
    "update the parameters for current market state:<br>1) when a trader trades, total number of trades in the market would increase by 1<br>2) $\\delta_1, \\delta_2$ corresponds to how much the current agent buys for these two securities. Thus, the outstanding amount of the two securities would increase or decrease by the amount of $\\delta_1, \\delta_2$.<br>3) we then calculate the current market price based on the current outstanding shares (the current outstanding shares would be fed into the function above, and it would return the current market prices for the two securities."
   ]
  },
  {
   "cell_type": "code",
   "execution_count": null,
   "metadata": {},
   "outputs": [],
   "source": [
    "  def update_param(self, delta_1, delta_2):\n",
    "        \"\"\"\n",
    "        update number of trades\n",
    "        :param: delta_1:\n",
    "        :param: delta_2:\n",
    "        :return:\n",
    "        \"\"\"\n",
    "        self.num_trade += 1\n",
    "        self.outstanding_security_amount[0] += delta_1      # delta>0: agent buys, market maker sells\n",
    "        self.outstanding_security_amount[1] += delta_2      # delta<0: agent sells, market maker buys\n",
    "        self.current_market_price[0], self.current_market_price[1] \\\n",
    "            = self.calc_current_market_price(self.outstanding_security_amount[0]\n",
    "                                             , self.outstanding_security_amount[1])\n"
   ]
  }
 ],
 "metadata": {
  "kernelspec": {
   "display_name": "Python 3",
   "language": "python",
   "name": "python3"
  },
  "language_info": {
   "codemirror_mode": {
    "name": "ipython",
    "version": 3
   },
   "file_extension": ".py",
   "mimetype": "text/x-python",
   "name": "python",
   "nbconvert_exporter": "python",
   "pygments_lexer": "ipython3",
   "version": "3.7.3"
  }
 },
 "nbformat": 4,
 "nbformat_minor": 2
}
