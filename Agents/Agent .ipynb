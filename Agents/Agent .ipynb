{
 "cells": [
  {
   "cell_type": "code",
   "execution_count": null,
   "metadata": {},
   "outputs": [],
   "source": [
    "#!/usr/bin/env python3\n",
    "\n",
    "from statistics import mean\n",
    "from math import sqrt"
   ]
  },
  {
   "cell_type": "markdown",
   "metadata": {},
   "source": [
    "Define a BayesianAgent."
   ]
  },
  {
   "cell_type": "code",
   "execution_count": null,
   "metadata": {},
   "outputs": [],
   "source": [
    "class BayesianAgent:\n",
    "    \"\"\"\n",
    "    bayesian agent\n",
    "    \"\"\"\n",
    "\n",
    "    def __init__(self, data, update_size=10):\n",
    "        self.size = len(data)           # size of dataset: reliability of his private signal (list)\n",
    "        self.mean = mean(data)        # private signal: random assigned (list)\n",
    "        self.sqr_mean = mean([x**2 for x in data])"
   ]
  },
  {
   "cell_type": "markdown",
   "metadata": {},
   "source": [
    "The bayesian market maker has a prior belief about the data that he or she observes. \n",
    "In our implementation, we separated the data into two parts. The first part (the first 20 points) is the part which agents use to form their priors.\n",
    "Our agents will observe data that are of random size from the first 20 points, and form an initial mean (an intial private signal) for the two securities."
   ]
  },
  {
   "cell_type": "code",
   "execution_count": null,
   "metadata": {},
   "outputs": [],
   "source": [
    "        self.decision = [False, False]    # sell(False) or buy(True) security (list of bool)\n",
    "        self.security_amount = [0, 0]     # two security amounts (list)\n",
    "        self.update_size = update_size\n",
    "        # self.budget = None: might be used in future"
   ]
  },
  {
   "cell_type": "code",
   "execution_count": null,
   "metadata": {},
   "outputs": [],
   "source": [
    "    def update_param(self, data):\n",
    "            \"\"\"\n",
    "            update private signal based on observed samples\n",
    "            :param data: the data observed by the agent after entering the market\n",
    "                         length of the data should be self.update_size\n",
    "            :return:\n",
    "            \"\"\"\n",
    "            self.mean = (self.mean * self.size + self.update_size * mean(data))/(self.update_size + self.size)\n",
    "            sqr_data_mean = mean([x**2 for x in data])\n",
    "            self.sqr_mean = (self.sqr_mean * self.size + self.update_size * sqr_data_mean)/(self.update_size + self.size)\n",
    "            self.size += self.update_size"
   ]
  },
  {
   "cell_type": "markdown",
   "metadata": {},
   "source": [
    "Once the agents have observed new data, they can update their belief using the equation (15) in Information Aggregation in Exponential Family Markets.\n",
    "The size of the data an agent sees each time is fixed to 10."
   ]
  },
  {
   "cell_type": "code",
   "execution_count": null,
   "metadata": {},
   "outputs": [],
   "source": [
    "    @staticmethod\n",
    "    def calculate_outstanding_shares(current_market_price):\n",
    "        \"\"\"\n",
    "        Calculate the number of outstanding shares using the current market price\n",
    "        :return: theta_1, theta_2\n",
    "        \"\"\"\n",
    "        p_1, p_2 = current_market_price[0], current_market_price[1]\n",
    "        theta_1 = p_1/(p_2-p_1**2)\n",
    "        theta_2 = 0.5/(p_1**2-p_2)\n",
    "        return theta_1, theta_2"
   ]
  },
  {
   "cell_type": "markdown",
   "metadata": {},
   "source": [
    "Here the agent can secretly calculate the number of shares of each security in the market according to the current price of each security."
   ]
  },
  {
   "cell_type": "code",
   "execution_count": null,
   "metadata": {},
   "outputs": [],
   "source": [
    "    def calculate_belief(self, num_trades, current_market_price, security_type=\"X\"):\n",
    "        \"\"\"\n",
    "         Calculate belief of agent based on market price\n",
    "        :param security_type: takes two values, \"X\" or \"X_sqr\"\n",
    "        :param num_trades: n\n",
    "        :param current_market_price: niu\n",
    "        :return: belief\n",
    "        \"\"\"\n",
    "        if security_type == \"X\":\n",
    "            return (num_trades * current_market_price + self.mean) / (num_trades + 1)\n",
    "        elif security_type == \"X_sqr\":\n",
    "            return (num_trades * current_market_price + self.sqr_mean) / (num_trades + 1)"
   ]
  },
  {
   "cell_type": "markdown",
   "metadata": {},
   "source": [
    "The agent forms a private belief based on the data points that he or she sees. However, when the agent trades, he weighs in the belief formed by other agents.\n",
    "Here the number of trades is published by the market maker. The current market price represent the common belief of the agents in the market.\n",
    "The resultant value is the value that an agent uses to decide the amount of shares he or she would trade."
   ]
  },
  {
   "cell_type": "code",
   "execution_count": null,
   "metadata": {},
   "outputs": [],
   "source": [
    "def calculate_shares_to_buy(self, num_trades, current_market_price):\n",
    "        \"\"\"\n",
    "        Calculate the number of shares agents should purchase to move the current market price to his or her expectation\n",
    "        :param  num_trades: the number of trades the market maker has seen in market\n",
    "        :param  current_market_price: list of prices\n",
    "        :param  security_type: 0 is X security, 1 is X**2 security\n",
    "        :return:\n",
    "        \"\"\"\n",
    "        theta_1, theta_2 = self.calculate_outstanding_shares(current_market_price)\n",
    "        belief_1 = self.calculate_belief(num_trades, current_market_price[0], \"X\")\n",
    "        belief_2 = self.calculate_belief(num_trades, current_market_price[1], \"X_sqr\")\n",
    "        delta_1 = belief_1 / (belief_2 - belief_1**2) - theta_1\n",
    "        delta_2 = - theta_2 - 1/(2 * (belief_2 - belief_1**2))\n",
    "        return delta_1, delta_2"
   ]
  },
  {
   "cell_type": "markdown",
   "metadata": {},
   "source": [
    "The way an agent calculates the amount of shares he or she wants to buy is using the price formula. Here we have derived the formula for the agent to move the market price to fit his or her calculated belief (after weighing in the market price)"
   ]
  },
  {
   "cell_type": "code",
   "execution_count": null,
   "metadata": {},
   "outputs": [],
   "source": [
    "def update_security(self, delta_1, delta_2):\n",
    "        \"\"\"\n",
    "        Update the number of securities an agent has based on whether he or she buys or sells securities\n",
    "        :return:\n",
    "        \"\"\"\n",
    "        # A positive delta stands for a buy, a negative delta stands for a sell\n",
    "        self.security_amount[0] += delta_1\n",
    "        self.security_amount[1] += delta_2"
   ]
  }
 ],
 "metadata": {
  "kernelspec": {
   "display_name": "Python 3",
   "language": "python",
   "name": "python3"
  },
  "language_info": {
   "codemirror_mode": {
    "name": "ipython",
    "version": 3
   },
   "file_extension": ".py",
   "mimetype": "text/x-python",
   "name": "python",
   "nbconvert_exporter": "python",
   "pygments_lexer": "ipython3",
   "version": "3.7.3"
  }
 },
 "nbformat": 4,
 "nbformat_minor": 2
}
